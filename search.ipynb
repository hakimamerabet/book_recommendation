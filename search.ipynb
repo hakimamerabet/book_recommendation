{
 "cells": [
  {
   "cell_type": "code",
   "execution_count": 38,
   "metadata": {},
   "outputs": [],
   "source": [
    "import pandas as pd\n",
    "import tensorflow as tf\n",
    "from tensorflow.keras.applications import VGG16\n",
    "from tensorflow.keras.applications.vgg16 import preprocess_input\n",
    "from tensorflow.keras.preprocessing import image\n",
    "import numpy as np\n",
    "import faiss\n",
    "import requests\n",
    "from PIL import Image\n",
    "from io import BytesIO\n"
   ]
  },
  {
   "cell_type": "code",
   "execution_count": 39,
   "metadata": {},
   "outputs": [],
   "source": [
    "data = pd.read_csv('datasets/books_data.csv')"
   ]
  },
  {
   "cell_type": "code",
   "execution_count": 40,
   "metadata": {},
   "outputs": [],
   "source": [
    "# Charger le modèle VGG16 pré-entraîné\n",
    "model = VGG16(weights='imagenet', include_top=False, pooling='avg')"
   ]
  },
  {
   "cell_type": "code",
   "execution_count": 75,
   "metadata": {},
   "outputs": [],
   "source": [
    "\n",
    "# Fonction pour télécharger et prétraiter une image à partir d'un lien\n",
    "def download_and_preprocess_image(img_url):\n",
    "    response = requests.get(img_url)\n",
    "    img = Image.open(BytesIO(response.content))\n",
    "    img = img.resize((224, 224))\n",
    "    x = image.img_to_array(img)\n",
    "    x = np.expand_dims(x, axis=0)\n",
    "    x = preprocess_input(x)\n",
    "    return x\n",
    "\n",
    "# Fonction pour extraire les caractéristiques d'une image\n",
    "def extract_features(img_url):\n",
    "    img = download_and_preprocess_image(img_url)\n",
    "    features = model.predict(img)\n",
    "    return features.flatten()\n",
    "\n",
    "# Exemple d'extraction de caractéristiques pour une image à partir d'un lien\n",
    "img_url = data.image[4]\n",
    "# features = extract_features(img_url)\n",
    "# print(features)\n",
    "\n",
    "\n"
   ]
  },
  {
   "cell_type": "code",
   "execution_count": 42,
   "metadata": {},
   "outputs": [],
   "source": [
    "# Indexation avec FAISS\n",
    "d = features.shape[0]  # Dimension des vecteurs de caractéristiques\n",
    "index = faiss.IndexFlatL2(d)  # Index L2\n",
    "index.add(np.array([features]))  # Ajouter les caractéristiques à l'index"
   ]
  },
  {
   "cell_type": "code",
   "execution_count": 43,
   "metadata": {},
   "outputs": [
    {
     "data": {
      "text/plain": [
       "numpy.ndarray"
      ]
     },
     "execution_count": 43,
     "metadata": {},
     "output_type": "execute_result"
    }
   ],
   "source": [
    "type(features)"
   ]
  },
  {
   "cell_type": "code",
   "execution_count": 49,
   "metadata": {},
   "outputs": [
    {
     "data": {
      "text/plain": [
       "0         http://books.google.com/books/content?id=DykPA...\n",
       "1         http://books.google.com/books/content?id=IjvHQ...\n",
       "2         http://books.google.com/books/content?id=2tsDA...\n",
       "3         http://books.google.com/books/content?id=aRSIg...\n",
       "4                                                       NaN\n",
       "                                ...                        \n",
       "212399    http://books.google.com/books/content?id=J7M-N...\n",
       "212400    http://books.google.com/books/content?id=3n8k6...\n",
       "212401                                                  NaN\n",
       "212402    http://books.google.com/books/content?id=JM6YV...\n",
       "212403    http://books.google.com/books/content?id=dehfP...\n",
       "Name: image, Length: 212404, dtype: object"
      ]
     },
     "execution_count": 49,
     "metadata": {},
     "output_type": "execute_result"
    }
   ],
   "source": [
    "data.image"
   ]
  },
  {
   "cell_type": "code",
   "execution_count": 62,
   "metadata": {},
   "outputs": [],
   "source": [
    "data = pd.read_csv('books_preprocessed.csv')"
   ]
  },
  {
   "cell_type": "code",
   "execution_count": 64,
   "metadata": {},
   "outputs": [],
   "source": [
    "data = data.dropna(subset=['image'])"
   ]
  },
  {
   "cell_type": "code",
   "execution_count": 73,
   "metadata": {},
   "outputs": [
    {
     "name": "stdout",
     "output_type": "stream",
     "text": [
      "http://books.google.com/books/content?id=IjvHQsCn_pgC&printsec=frontcover&img=1&zoom=1&edge=curl&source=gbs_api\n",
      "http://books.google.com/books/content?id=2tsDAAAACAAJ&printsec=frontcover&img=1&zoom=1&source=gbs_api\n",
      "http://books.google.com/books/content?id=aRSIgJlq6JwC&printsec=frontcover&img=1&zoom=1&source=gbs_api\n",
      "http://books.google.com/books/content?id=kVqRaiPlx88C&printsec=frontcover&img=1&zoom=1&edge=curl&source=gbs_api\n",
      "http://books.google.com/books/content?id=lmLqAAAACAAJ&printsec=frontcover&img=1&zoom=1&source=gbs_api\n",
      "http://books.google.com/books/content?id=o7izAAAAIAAJ&printsec=frontcover&img=1&zoom=1&source=gbs_api\n",
      "http://books.google.com/books/content?id=iTueuAAACAAJ&printsec=frontcover&img=1&zoom=1&source=gbs_api\n",
      "http://books.google.com/books/content?id=tX1IswEACAAJ&printsec=frontcover&img=1&zoom=1&source=gbs_api\n",
      "http://books.google.com/books/content?id=GgnrBwAAQBAJ&printsec=frontcover&img=1&zoom=1&edge=curl&source=gbs_api\n",
      "http://books.google.com/books/content?id=EzxODwAAQBAJ&printsec=frontcover&img=1&zoom=1&edge=curl&source=gbs_api\n",
      "http://books.google.com/books/content?id=KAjcBAAAQBAJ&printsec=frontcover&img=1&zoom=1&edge=curl&source=gbs_api\n",
      "http://books.google.com/books/content?id=6vYwCwAAQBAJ&printsec=frontcover&img=1&zoom=1&edge=curl&source=gbs_api\n",
      "http://books.google.com/books/content?id=guP-e8igrK0C&printsec=frontcover&img=1&zoom=1&edge=curl&source=gbs_api\n",
      "http://books.google.com/books/content?id=ubBQAQAAIAAJ&printsec=frontcover&img=1&zoom=1&source=gbs_api\n",
      "http://books.google.com/books/content?id=4YUJhIiyMFoC&printsec=frontcover&img=1&zoom=1&edge=curl&source=gbs_api\n",
      "http://books.google.com/books/content?id=h4worgEACAAJ&printsec=frontcover&img=1&zoom=1&source=gbs_api\n",
      "http://books.google.com/books/content?id=0lbZCRYJXYIC&printsec=frontcover&img=1&zoom=1&edge=curl&source=gbs_api\n",
      "http://books.google.com/books/content?id=PSnkDwAAQBAJ&printsec=frontcover&img=1&zoom=1&edge=curl&source=gbs_api\n",
      "http://books.google.com/books/content?id=A7aYbAvagu8C&printsec=frontcover&img=1&zoom=1&edge=curl&source=gbs_api\n",
      "http://books.google.com/books/content?id=wLQ0bRIyx30C&printsec=frontcover&img=1&zoom=1&edge=curl&source=gbs_api\n"
     ]
    }
   ],
   "source": [
    "for img in data['image'].head(20).values:\n",
    "    print(img)"
   ]
  },
  {
   "cell_type": "code",
   "execution_count": 90,
   "metadata": {},
   "outputs": [
    {
     "name": "stdout",
     "output_type": "stream",
     "text": [
      "\u001b[1m1/1\u001b[0m \u001b[32m━━━━━━━━━━━━━━━━━━━━\u001b[0m\u001b[37m\u001b[0m \u001b[1m0s\u001b[0m 479ms/step\n",
      "\u001b[1m1/1\u001b[0m \u001b[32m━━━━━━━━━━━━━━━━━━━━\u001b[0m\u001b[37m\u001b[0m \u001b[1m0s\u001b[0m 464ms/step\n",
      "\u001b[1m1/1\u001b[0m \u001b[32m━━━━━━━━━━━━━━━━━━━━\u001b[0m\u001b[37m\u001b[0m \u001b[1m0s\u001b[0m 460ms/step\n",
      "\u001b[1m1/1\u001b[0m \u001b[32m━━━━━━━━━━━━━━━━━━━━\u001b[0m\u001b[37m\u001b[0m \u001b[1m1s\u001b[0m 564ms/step\n",
      "\u001b[1m1/1\u001b[0m \u001b[32m━━━━━━━━━━━━━━━━━━━━\u001b[0m\u001b[37m\u001b[0m \u001b[1m0s\u001b[0m 469ms/step\n",
      "\u001b[1m1/1\u001b[0m \u001b[32m━━━━━━━━━━━━━━━━━━━━\u001b[0m\u001b[37m\u001b[0m \u001b[1m0s\u001b[0m 447ms/step\n",
      "\u001b[1m1/1\u001b[0m \u001b[32m━━━━━━━━━━━━━━━━━━━━\u001b[0m\u001b[37m\u001b[0m \u001b[1m0s\u001b[0m 455ms/step\n",
      "\u001b[1m1/1\u001b[0m \u001b[32m━━━━━━━━━━━━━━━━━━━━\u001b[0m\u001b[37m\u001b[0m \u001b[1m1s\u001b[0m 510ms/step\n",
      "\u001b[1m1/1\u001b[0m \u001b[32m━━━━━━━━━━━━━━━━━━━━\u001b[0m\u001b[37m\u001b[0m \u001b[1m1s\u001b[0m 638ms/step\n",
      "\u001b[1m1/1\u001b[0m \u001b[32m━━━━━━━━━━━━━━━━━━━━\u001b[0m\u001b[37m\u001b[0m \u001b[1m0s\u001b[0m 452ms/step\n",
      "\u001b[1m1/1\u001b[0m \u001b[32m━━━━━━━━━━━━━━━━━━━━\u001b[0m\u001b[37m\u001b[0m \u001b[1m1s\u001b[0m 624ms/step\n",
      "\u001b[1m1/1\u001b[0m \u001b[32m━━━━━━━━━━━━━━━━━━━━\u001b[0m\u001b[37m\u001b[0m \u001b[1m0s\u001b[0m 434ms/step\n",
      "\u001b[1m1/1\u001b[0m \u001b[32m━━━━━━━━━━━━━━━━━━━━\u001b[0m\u001b[37m\u001b[0m \u001b[1m0s\u001b[0m 432ms/step\n",
      "\u001b[1m1/1\u001b[0m \u001b[32m━━━━━━━━━━━━━━━━━━━━\u001b[0m\u001b[37m\u001b[0m \u001b[1m0s\u001b[0m 458ms/step\n",
      "\u001b[1m1/1\u001b[0m \u001b[32m━━━━━━━━━━━━━━━━━━━━\u001b[0m\u001b[37m\u001b[0m \u001b[1m0s\u001b[0m 473ms/step\n",
      "\u001b[1m1/1\u001b[0m \u001b[32m━━━━━━━━━━━━━━━━━━━━\u001b[0m\u001b[37m\u001b[0m \u001b[1m1s\u001b[0m 510ms/step\n",
      "\u001b[1m1/1\u001b[0m \u001b[32m━━━━━━━━━━━━━━━━━━━━\u001b[0m\u001b[37m\u001b[0m \u001b[1m0s\u001b[0m 453ms/step\n",
      "\u001b[1m1/1\u001b[0m \u001b[32m━━━━━━━━━━━━━━━━━━━━\u001b[0m\u001b[37m\u001b[0m \u001b[1m0s\u001b[0m 469ms/step\n",
      "\u001b[1m1/1\u001b[0m \u001b[32m━━━━━━━━━━━━━━━━━━━━\u001b[0m\u001b[37m\u001b[0m \u001b[1m0s\u001b[0m 426ms/step\n",
      "\u001b[1m1/1\u001b[0m \u001b[32m━━━━━━━━━━━━━━━━━━━━\u001b[0m\u001b[37m\u001b[0m \u001b[1m0s\u001b[0m 454ms/step\n"
     ]
    }
   ],
   "source": [
    "for img in data['image'].head(20).values:\n",
    "    features = extract_features(img)\n",
    "    a = index.add(np.array([features]))"
   ]
  },
  {
   "cell_type": "code",
   "execution_count": 91,
   "metadata": {},
   "outputs": [
    {
     "name": "stdout",
     "output_type": "stream",
     "text": [
      "1\n"
     ]
    }
   ],
   "source": [
    "print(np.size(a))"
   ]
  },
  {
   "cell_type": "code",
   "execution_count": 85,
   "metadata": {},
   "outputs": [
    {
     "name": "stdout",
     "output_type": "stream",
     "text": [
      "http://books.google.com/books/content?id=7mqCDwAAQBAJ&printsec=frontcover&img=1&zoom=1&source=gbs_api\n"
     ]
    }
   ],
   "source": [
    "print(data.image[22])"
   ]
  },
  {
   "cell_type": "code",
   "execution_count": 86,
   "metadata": {},
   "outputs": [
    {
     "name": "stdout",
     "output_type": "stream",
     "text": [
      "\u001b[1m1/1\u001b[0m \u001b[32m━━━━━━━━━━━━━━━━━━━━\u001b[0m\u001b[37m\u001b[0m \u001b[1m1s\u001b[0m 530ms/step\n",
      "Indices des images similaires: [[29 19 54]]\n",
      "Distances: [[   0.     5440.7183 5440.7183]]\n"
     ]
    }
   ],
   "source": [
    "\n",
    "# # Fonction pour ajouter des images à l'index\n",
    "# def add_images_to_index(image_urls):\n",
    "#     for url in image_urls:\n",
    "#         features = extract_features(url)\n",
    "#         index.add(np.array([features]))\n",
    "\n",
    "# Exemple d'ajout de plusieurs images à l'index\n",
    "\n",
    "# image_urls = [\n",
    "#     'https://example.com/path/to/cover_image1.jpg',\n",
    "#     'https://example.com/path/to/cover_image2.jpg',\n",
    "#     'https://example.com/path/to/cover_image3.jpg'\n",
    "# ]\n",
    "# Fonction pour comparer une image de référence avec les images indexées\n",
    "def compare_image(reference_img_url, k=3):\n",
    "    reference_features = extract_features(reference_img_url)\n",
    "    D, I = index.search(np.array([reference_features]), k)  # Recherche des k plus proches voisins\n",
    "    return I, D\n",
    "\n",
    "# Exemple de comparaison avec une image de référence\n",
    "reference_img_url = data.image[22]\n",
    "indices, distances = compare_image(reference_img_url)\n",
    "\n",
    "print(\"Indices des images similaires:\", indices)\n",
    "print(\"Distances:\", distances)\n"
   ]
  }
 ],
 "metadata": {
  "kernelspec": {
   "display_name": "Python 3",
   "language": "python",
   "name": "python3"
  },
  "language_info": {
   "codemirror_mode": {
    "name": "ipython",
    "version": 3
   },
   "file_extension": ".py",
   "mimetype": "text/x-python",
   "name": "python",
   "nbconvert_exporter": "python",
   "pygments_lexer": "ipython3",
   "version": "3.12.4"
  }
 },
 "nbformat": 4,
 "nbformat_minor": 2
}
